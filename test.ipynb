{
    "cells": [
        {
            "cell_type": "markdown",
            "id": "0",
            "metadata": {},
            "source": [
                "# Embedding Models and Chunking\n",
                "\n",
                "Before building our first RAG, we need to asses the quality of the selected embedding models.\n",
                "The documents are in German, including English text passages and english annotion (mutable). The embedding model is therefore required to posses enough multilanugage capability.\n",
                "\n",
                "Chunking has a direct impact on search speed and retrieval accuracy. Smaller chunks are better represented in the embedding vector, while larger chunks need less embedding vectors, resulting in higher retrieval speeds. In addidion, the chunking quality may determine retrieval accuracy. This notebook explores the interplay between both.\n",
                "\n",
                "## Setup: Dataset\n",
                "\n",
                "First let's load the documents into memory"
            ]
        },
        {
            "cell_type": "code",
            "execution_count": 72,
            "id": "1",
            "metadata": {},
            "outputs": [
                {
                    "name": "stdout",
                    "output_type": "stream",
                    "text": [
                        "Loaded 40 documents\n"
                    ]
                }
            ],
            "source": [
                "from pathlib import Path\n",
                "from llama_index.core import SimpleDirectoryReader\n",
                "\n",
                "# Replace this path with your actual docs folder\n",
                "source_dir = Path(\"data\", \"evaluation\", \"rapid_ocr_with_eng_model_text_blocks\")\n",
                "\n",
                "# Load markdown documents\n",
                "documents = SimpleDirectoryReader(source_dir, required_exts=[\".md\"], recursive=True).load_data()\n",
                "print(f\"Loaded {len(documents)} documents\")"
            ]
        },
        {
            "cell_type": "markdown",
            "id": "2",
            "metadata": {},
            "source": [
                "## Chunking Method\n",
                "\n",
                "### SentenceSplitter Overview\n",
                "\n",
                "The `SentenceSplitter` from LlamaIndex is a text chunking utility that breaks documents into semantically meaningful sentences or sentence groups. It preserves sentence boundaries, resulting in more coherent and effective chunks for embedding and retrieval. It is the default chunking method used by llama-index.\n",
                "\n",
                "**Key Features:**\n",
                "- Splits by sentence rather than fixed character count.\n",
                "- Supports parameters like `chunk_size` (max tokens or characters per chunk) and `chunk_overlap` (repeated content between chunks).\n",
                "- Returns `TextNode` objects containing `text` and `metadata`."
            ]
        },
        {
            "cell_type": "code",
            "execution_count": 73,
            "id": "3",
            "metadata": {},
            "outputs": [],
            "source": [
                "from utils import display_citation\n",
                "from llama_index.core.node_parser import SentenceSplitter"
            ]
        },
        {
            "cell_type": "code",
            "execution_count": null,
            "id": "4",
            "metadata": {},
            "outputs": [
                {
                    "name": "stdout",
                    "output_type": "stream",
                    "text": [
                        "Second Chunk:\n"
                    ]
                },
                {
                    "data": {
                        "text/markdown": [
                            "> Zusammenfassung\n",
                            "> \n",
                            "> - ● PE/PTT Aktivitäten Abschlußbericht: Hannah verlässt das HIP Team, das DSRPFS Team für PE-PTT Team wird in anderer Form weitergeführt.\n",
                            "> - ● Moritz verlässt das HIP Team bis auf das Thema 'unified cut-offs'.\n",
                            "> - ● Die Möglichkeit einer Entwicklung interner Mehrweg-Trays wird untersucht und bewertet.\n",
                            "> - ● Entscheidung : Der Roboterbau im Elab zur Unterstützung des KI-Trainings wird gecancelt, da er nicht mehr benötigt wird.\n",
                            "> - ● CN110 und CN95 Feinschnitte werden Yilmaz angeboten, ansonsten entsorgt.\n",
                            "> \n",
                            "> ## 2. Abschluss PE/PTT (Hannah)\n",
                            "> \n",
                            "> 2024-01-11\\_Abschluss\\_HIP.pdf\n",
                            "> \n",
                            "> ## DSRPSF Projektabschluss HIP\n",
                            "> \n",
                            "> 11.01.2024.CAPCCT\n",
                            "> \n",
                            "> Hannah Berberich fur Manuela Reddmann, Melanie Kohlmeier, Katrin Meininger.Christian Albrecht, Christoph Schuck, Lisa Hintz, Jasamin Kabiri und Benjamin Reinhard\n",
                            "> \n",
                            "> Roche Diagnostics GmbH Diagnostics Division\n",
                            "> \n",
                            "> System Integration Dcs\n",
                            "> \n",
                            "> Wann?\n",
                            "> \n",
                            "> Wer?\n",
                            "> \n",
                            "> Was?\n",
                            "> \n",
                            "> Impact?\n",
                            "> \n",
                            "> HIP CAP-CCT\n",
                            "> \n",
                            "> ## Ubersicht Aufgaben DSRPSF in HIP\n",
                            "> \n",
                            "> ## Q4 2020 - Q3 2023\n",
                            "> \n",
                            "> Q4 2020\n",
                            "> \n",
                            "> Melanie Kohlmeier Manuela Reddmann Katrin Meininger\n",
                            "> \n",
                            "> Melanie Kohlmeier Manuela Reddmann Katrin Meininger\n",
                            "> \n",
                            "> Melanie Kohlmeier Manuela Reddmann Katrin Meininger\n",
                            "> \n",
                            "> Einarbeitung durch TnT Team Erste Aquivalenztests\n",
                            "> \n",
                            "> 2021 Kevin Kraus tw. Hannah Berberich\n",
                            "> \n",
                            "> 47 TnT Funktionsbewertungen mit 129 Fertigungsvarianten, Davon:\n",
                            "> \n",
                            "> - &gt; 18 Freigabeversuche &gt; z.B."
                        ],
                        "text/plain": [
                            "<IPython.core.display.Markdown object>"
                        ]
                    },
                    "metadata": {},
                    "output_type": "display_data"
                },
                {
                    "name": "stdout",
                    "output_type": "stream",
                    "text": [
                        "Third Chunk:\n"
                    ]
                },
                {
                    "data": {
                        "text/markdown": [
                            "> Hannah Berberich\n",
                            "> \n",
                            "> 47 TnT Funktionsbewertungen mit 129 Fertigungsvarianten, Davon:\n",
                            "> \n",
                            "> - &gt; 18 Freigabeversuche &gt; z.B. Anlagen, Bauteile, Prozessschritte,Materialien und Einsatzstoffe\n",
                            "> \n",
                            "> &amp;Unterdosierung &gt;6 Homogenitatsbestimmungen -&gt;z.B Leistungslauf,POCL\n",
                            "> \n",
                            "> &gt;14weitere Versuche&gt;u.a.Aquivalenztests, Ursachenanalysen\n",
                            "> \n",
                            "> unter kontinuierlicher Erhohung des Standardisierungsgrades\n",
                            "> \n",
                            "> o D-Diner POCL1 Bewertung o3 D-Dimer POL Bewertungen\n",
                            "> \n",
                            "> 2022\n",
                            "> \n",
                            "> Q1-Q3 2023\n",
                            "> \n",
                            "> Benjamin Reinhard tw Jasamin Kabiri tw. Christian Albrecht tw. Hannah Berberich\n",
                            "> \n",
                            "> Aufbau 52 Labor im Geb.272 oAufbau Team4auf 7\n",
                            "> \n",
                            "> o 2 TnT POCL Bewertungen o 6 TnT POL Bewertungen o 2 FRL TnT Assay Freigaben 4 Stabilitats-Studien 18 Chromatographiezeitbestimmungen o 5 Bewertungen von PE Freigabeversuchen o Freigabe SG008B1\n",
                            "> \n",
                            "> o D-Dimer Freigabe MBBs o Erstellung Messplan PT PRAD und POCL/POL Prograrmm D-Dimer\n",
                            "> \n",
                            "> o 2 Bewertungen TnT Versuche o Support Fluidikbewertungen SG008B1+SG\\_P01 o 4 Bewertungen Cartridge Versuche\n",
                            "> \n",
                            "> Prozessentwicklung\n",
                            "> \n",
                            "> ## AbschlieBende HIP Tasks Q4 2023 und Ausblick 2024 ff\n",
                            "> \n",
                            "> Go Live DSRP 2.0\n",
                            "> \n",
                            "> \n",
                            ">   Image Info:\n",
                            ">   - label: Diagramm\n",
                            ">   - description: Das Bild zeigt ein Organisationsdiagramm, das die Struktur und Aufgaben eines Teams darstellt."
                        ],
                        "text/plain": [
                            "<IPython.core.display.Markdown object>"
                        ]
                    },
                    "metadata": {},
                    "output_type": "display_data"
                }
            ],
            "source": [
                "splitter = SentenceSplitter(chunk_size=512, chunk_overlap=50)\n",
                "sentence_nodes = splitter.get_nodes_from_documents(documents)\n",
                "\n",
                "print(\"Second Chunk:\")\n",
                "display_citation(sentence_nodes[1].text) \n",
                "\n",
                "print(\"Third Chunk:\")\n",
                "display_citation(sentence_nodes[2].text) "
            ]
        },
        {
            "cell_type": "markdown",
            "id": "5",
            "metadata": {},
            "source": [
                "### SemanticSplitterNodeParser\n",
                "\n",
                "The `SemanticSplitterNodeParser` is a chunking method in LlamaIndex that uses **embedding-based sentence similarity** to identify natural semantic boundaries in a document. It creates chunks that are more coherent and context-aware than character-based or naive sentence-based splitters.\n",
                "\n",
                "**What It Does**:\n",
                "\n",
                "- Converts each sentence into an embedding.\n",
                "- Computes similarity between consecutive sentences.\n",
                "- Places chunk breaks where sentence similarity drops below a threshold, ensuring semantic boundaries.\n",
                "- Optionally adjusts chunk size using `buffer_size`.\n",
                "\n",
                "**Key Parameters**:\n",
                "- `buffer_size`: Number of surrounding sentences included to preserve context.\n",
                "- `breakpoint_percentile_threshold`: Percentile threshold to decide where breaks occur based on sentence similarity.\n",
                "- `embed_model`: The embedding model used to compute sentence-level similarity\n",
                "\n",
                "This method is ideal for use cases requiring semantic integrity in chunking, such as RAG pipelines, summarization, or contextual question answering."
            ]
        },
        {
            "cell_type": "code",
            "execution_count": 75,
            "id": "6",
            "metadata": {},
            "outputs": [],
            "source": [
                "import requests\n",
                "import warnings\n",
                "import urllib3\n",
                "from huggingface_hub import configure_http_backend\n",
                "\n",
                "def backend_factory() -> requests.Session:\n",
                "    session = requests.Session()\n",
                "    session.verify = False\n",
                "    return session\n",
                "\n",
                "configure_http_backend(backend_factory=backend_factory)\n",
                "\n",
                "# Suppress only InsecureRequestWarning from urllib3\n",
                "warnings.filterwarnings(\"ignore\", category=urllib3.exceptions.InsecureRequestWarning)"
            ]
        },
        {
            "cell_type": "code",
            "execution_count": null,
            "id": "7",
            "metadata": {},
            "outputs": [],
            "source": [
                "from llama_index.embeddings.langchain import LangchainEmbedding\n",
                "from langchain.embeddings import HuggingFaceEmbeddings\n",
                "\n",
                "# Load MiniLM embedding model (384 dim, fast and accurate)\n",
                "embedding_model = HuggingFaceEmbeddings(model_name=\"sentence-transformers/all-MiniLM-L6-v2\")\n",
                "embed_model = LangchainEmbedding(embedding_model)"
            ]
        },
        {
            "cell_type": "code",
            "execution_count": null,
            "id": "8",
            "metadata": {},
            "outputs": [],
            "source": [
                "from llama_index.core.node_parser import SemanticSplitterNodeParser"
            ]
        },
        {
            "cell_type": "code",
            "execution_count": null,
            "id": "9",
            "metadata": {},
            "outputs": [],
            "source": [
                "splitter = SemanticSplitterNodeParser(\n",
                "    buffer_size=2,\n",
                "    breakpoint_percentile_threshold=95,\n",
                "    embed_model=embed_model\n",
                ")\n",
                "semantic_nodes = splitter.get_nodes_from_documents(documents)"
            ]
        },
        {
            "cell_type": "code",
            "execution_count": null,
            "id": "10",
            "metadata": {},
            "outputs": [
                {
                    "name": "stdout",
                    "output_type": "stream",
                    "text": [
                        "Second Chunk:\n"
                    ]
                },
                {
                    "data": {
                        "text/markdown": [
                            "> | Melanie Kohimeier Manuela Reddmann Katrin Meininger | Melanie KohImeier Manuela Reddmann Katrin Meininger                                                                                                                                                                                               | Kevin Kraus tw. "
                        ],
                        "text/plain": [
                            "<IPython.core.display.Markdown object>"
                        ]
                    },
                    "metadata": {},
                    "output_type": "display_data"
                },
                {
                    "name": "stdout",
                    "output_type": "stream",
                    "text": [
                        "Third Chunk:\n"
                    ]
                },
                {
                    "data": {
                        "text/markdown": [
                            "> Hannah Berberich     | Melanie Kohimeier ManuelaReddmann Katrin Meininger                                                                                                                                                                             | Benjamin Reinhard tw — Jasamin Kabiri tw. "
                        ],
                        "text/plain": [
                            "<IPython.core.display.Markdown object>"
                        ]
                    },
                    "metadata": {},
                    "output_type": "display_data"
                }
            ],
            "source": [
                "print(\"Second Chunk:\")\n",
                "display_citation(semantic_nodes[1].text) \n",
                "\n",
                "print(\"Third Chunk:\")\n",
                "display_citation(semantic_nodes[2].text) "
            ]
        },
        {
            "cell_type": "markdown",
            "id": "11",
            "metadata": {},
            "source": [
                "## SemanticDoubleMergingSplitterNodeParser\n",
                "\n",
                "`SemanticDoubleMergingSplitterNodeParser` is an advanced chunking strategy in LlamaIndex that intelligently merges sentences and chunks based on semantic similarity. It uses **SpaCy embeddings** and a **two-pass merging process** to create context-rich, coherent chunks suitable for high-quality retrieval.\n",
                "\n",
                "**The algorithm:**  \n",
                "\n",
                "1. **Embeds sentences** and measures similarity between them.\n",
                "2. **Identifies semantic breakpoints** where similarity drops below a defined threshold.\n",
                "3. **Appends short fragments** to previous chunks if they lack standalone context.\n",
                "4. **Merges neighboring chunks** if their semantic similarity exceeds the merging threshold.\n",
                "5. Ensures all final chunks respect the `max_chunk_size` limit.\n",
                "\n",
                "This produces segments that are semantically coherent, complete in thought, and suitable for vector-based retrieval.\n",
                "\n",
                "**Key Features**  \n",
                "\n",
                "- Controlled chunk sizing for model efficiency\n",
                "- Language-aware via `LanguageConfig` support\n",
                "\n",
                "**Key Parameters**  \n",
                "\n",
                "- `initial_threshold`: Similarity score to start a new chunk\n",
                "- `appending_threshold`: Similarity required to append small fragments\n",
                "- `merging_threshold`: Similarity for merging neighboring chunks\n",
                "- `max_chunk_size`: Maximum number of characters per chunk"
            ]
        },
        {
            "cell_type": "code",
            "execution_count": 78,
            "id": "12",
            "metadata": {},
            "outputs": [
                {
                    "name": "stdout",
                    "output_type": "stream",
                    "text": [
                        "Defaulting to user installation because normal site-packages is not writeable\n",
                        "Requirement already satisfied: spacy in /usr/local/lib/python3.11/site-packages (3.8.5)\n",
                        "Requirement already satisfied: spacy-legacy<3.1.0,>=3.0.11 in /usr/local/lib/python3.11/site-packages (from spacy) (3.0.12)\n",
                        "Requirement already satisfied: spacy-loggers<2.0.0,>=1.0.0 in /usr/local/lib/python3.11/site-packages (from spacy) (1.0.5)\n",
                        "Requirement already satisfied: murmurhash<1.1.0,>=0.28.0 in /usr/local/lib/python3.11/site-packages (from spacy) (1.0.12)\n",
                        "Requirement already satisfied: cymem<2.1.0,>=2.0.2 in /usr/local/lib/python3.11/site-packages (from spacy) (2.0.11)\n",
                        "Requirement already satisfied: preshed<3.1.0,>=3.0.2 in /usr/local/lib/python3.11/site-packages (from spacy) (3.0.9)\n",
                        "Requirement already satisfied: thinc<8.4.0,>=8.3.4 in /usr/local/lib/python3.11/site-packages (from spacy) (8.3.6)\n",
                        "Requirement already satisfied: wasabi<1.2.0,>=0.9.1 in /usr/local/lib/python3.11/site-packages (from spacy) (1.1.3)\n",
                        "Requirement already satisfied: srsly<3.0.0,>=2.4.3 in /usr/local/lib/python3.11/site-packages (from spacy) (2.5.1)\n",
                        "Requirement already satisfied: catalogue<2.1.0,>=2.0.6 in /usr/local/lib/python3.11/site-packages (from spacy) (2.0.10)\n",
                        "Requirement already satisfied: weasel<0.5.0,>=0.1.0 in /usr/local/lib/python3.11/site-packages (from spacy) (0.4.1)\n",
                        "Requirement already satisfied: typer<1.0.0,>=0.3.0 in /usr/local/lib/python3.11/site-packages (from spacy) (0.12.5)\n",
                        "Requirement already satisfied: tqdm<5.0.0,>=4.38.0 in /usr/local/lib/python3.11/site-packages (from spacy) (4.67.1)\n",
                        "Requirement already satisfied: numpy>=1.19.0 in /usr/local/lib/python3.11/site-packages (from spacy) (2.2.4)\n",
                        "Requirement already satisfied: requests<3.0.0,>=2.13.0 in /usr/local/lib/python3.11/site-packages (from spacy) (2.32.3)\n",
                        "Requirement already satisfied: pydantic!=1.8,!=1.8.1,<3.0.0,>=1.7.4 in /usr/local/lib/python3.11/site-packages (from spacy) (2.11.2)\n",
                        "Requirement already satisfied: jinja2 in /usr/local/lib/python3.11/site-packages (from spacy) (3.1.6)\n",
                        "Requirement already satisfied: setuptools in /usr/local/lib/python3.11/site-packages (from spacy) (75.6.0)\n",
                        "Requirement already satisfied: packaging>=20.0 in /usr/local/lib/python3.11/site-packages (from spacy) (24.2)\n",
                        "Requirement already satisfied: langcodes<4.0.0,>=3.2.0 in /usr/local/lib/python3.11/site-packages (from spacy) (3.5.0)\n",
                        "Requirement already satisfied: language-data>=1.2 in /usr/local/lib/python3.11/site-packages (from langcodes<4.0.0,>=3.2.0->spacy) (1.3.0)\n",
                        "Requirement already satisfied: annotated-types>=0.6.0 in /usr/local/lib/python3.11/site-packages (from pydantic!=1.8,!=1.8.1,<3.0.0,>=1.7.4->spacy) (0.7.0)\n",
                        "Requirement already satisfied: pydantic-core==2.33.1 in /usr/local/lib/python3.11/site-packages (from pydantic!=1.8,!=1.8.1,<3.0.0,>=1.7.4->spacy) (2.33.1)\n",
                        "Requirement already satisfied: typing-extensions>=4.12.2 in /usr/local/lib/python3.11/site-packages (from pydantic!=1.8,!=1.8.1,<3.0.0,>=1.7.4->spacy) (4.13.0)\n",
                        "Requirement already satisfied: typing-inspection>=0.4.0 in /usr/local/lib/python3.11/site-packages (from pydantic!=1.8,!=1.8.1,<3.0.0,>=1.7.4->spacy) (0.4.0)\n",
                        "Requirement already satisfied: charset-normalizer<4,>=2 in /usr/local/lib/python3.11/site-packages (from requests<3.0.0,>=2.13.0->spacy) (3.4.1)\n",
                        "Requirement already satisfied: idna<4,>=2.5 in /usr/local/lib/python3.11/site-packages (from requests<3.0.0,>=2.13.0->spacy) (3.10)\n",
                        "Requirement already satisfied: urllib3<3,>=1.21.1 in /usr/local/lib/python3.11/site-packages (from requests<3.0.0,>=2.13.0->spacy) (2.3.0)\n",
                        "Requirement already satisfied: certifi>=2017.4.17 in /usr/local/lib/python3.11/site-packages (from requests<3.0.0,>=2.13.0->spacy) (2025.1.31)\n",
                        "Requirement already satisfied: blis<1.4.0,>=1.3.0 in /usr/local/lib/python3.11/site-packages (from thinc<8.4.0,>=8.3.4->spacy) (1.3.0)\n",
                        "Requirement already satisfied: confection<1.0.0,>=0.0.1 in /usr/local/lib/python3.11/site-packages (from thinc<8.4.0,>=8.3.4->spacy) (0.1.5)\n",
                        "Requirement already satisfied: click>=8.0.0 in /usr/local/lib/python3.11/site-packages (from typer<1.0.0,>=0.3.0->spacy) (8.1.8)\n",
                        "Requirement already satisfied: shellingham>=1.3.0 in /usr/local/lib/python3.11/site-packages (from typer<1.0.0,>=0.3.0->spacy) (1.5.4)\n",
                        "Requirement already satisfied: rich>=10.11.0 in /usr/local/lib/python3.11/site-packages (from typer<1.0.0,>=0.3.0->spacy) (13.9.4)\n",
                        "Requirement already satisfied: cloudpathlib<1.0.0,>=0.7.0 in /usr/local/lib/python3.11/site-packages (from weasel<0.5.0,>=0.1.0->spacy) (0.21.0)\n",
                        "Requirement already satisfied: smart-open<8.0.0,>=5.2.1 in /usr/local/lib/python3.11/site-packages (from weasel<0.5.0,>=0.1.0->spacy) (7.1.0)\n",
                        "Requirement already satisfied: MarkupSafe>=2.0 in /usr/local/lib/python3.11/site-packages (from jinja2->spacy) (3.0.2)\n",
                        "Requirement already satisfied: marisa-trie>=1.1.0 in /usr/local/lib/python3.11/site-packages (from language-data>=1.2->langcodes<4.0.0,>=3.2.0->spacy) (1.2.1)\n",
                        "Requirement already satisfied: markdown-it-py>=2.2.0 in /usr/local/lib/python3.11/site-packages (from rich>=10.11.0->typer<1.0.0,>=0.3.0->spacy) (3.0.0)\n",
                        "Requirement already satisfied: pygments<3.0.0,>=2.13.0 in /usr/local/lib/python3.11/site-packages (from rich>=10.11.0->typer<1.0.0,>=0.3.0->spacy) (2.19.1)\n",
                        "Requirement already satisfied: wrapt in /usr/local/lib/python3.11/site-packages (from smart-open<8.0.0,>=5.2.1->weasel<0.5.0,>=0.1.0->spacy) (1.17.2)\n",
                        "Requirement already satisfied: mdurl~=0.1 in /usr/local/lib/python3.11/site-packages (from markdown-it-py>=2.2.0->rich>=10.11.0->typer<1.0.0,>=0.3.0->spacy) (0.1.2)\n",
                        "Note: you may need to restart the kernel to use updated packages.\n",
                        "Defaulting to user installation because normal site-packages is not writeable\n",
                        "Collecting en-core-web-md==3.8.0\n",
                        "  Downloading https://github.com/explosion/spacy-models/releases/download/en_core_web_md-3.8.0/en_core_web_md-3.8.0-py3-none-any.whl (33.5 MB)\n",
                        "\u001b[2K     \u001b[90m━━━━━━━━━━━━━━━━━━━━━━━━━━━━━━━━━━━━━━━━\u001b[0m \u001b[32m33.5/33.5 MB\u001b[0m \u001b[31m37.6 MB/s\u001b[0m eta \u001b[36m0:00:00\u001b[0ma \u001b[36m0:00:01\u001b[0m\n",
                        "\u001b[?25hInstalling collected packages: en-core-web-md\n",
                        "Successfully installed en-core-web-md-3.8.0\n",
                        "\u001b[38;5;2m✔ Download and installation successful\u001b[0m\n",
                        "You can now load the package via spacy.load('en_core_web_md')\n",
                        "<frozen runpy>:128: RuntimeWarning: 'nltk.downloader' found in sys.modules after import of package 'nltk', but prior to execution of 'nltk.downloader'; this may result in unpredictable behaviour\n",
                        "[nltk_data] Downloading package punkt_tab to /home/vscode/nltk_data...\n",
                        "[nltk_data]   Unzipping tokenizers/punkt_tab.zip.\n"
                    ]
                }
            ],
            "source": [
                "%pip install spacy\n",
                "!python3 -m spacy download en_core_web_md\n",
                "!python -m nltk.downloader punkt_tab"
            ]
        },
        {
            "cell_type": "code",
            "execution_count": 79,
            "id": "13",
            "metadata": {},
            "outputs": [
                {
                    "name": "stderr",
                    "output_type": "stream",
                    "text": [
                        "/usr/local/lib/python3.11/site-packages/llama_index/core/node_parser/text/semantic_double_merging_splitter.py:254: UserWarning: [W008] Evaluating Doc.similarity based on empty vectors.\n",
                        "  ).similarity(\n",
                        "/usr/local/lib/python3.11/site-packages/llama_index/core/node_parser/text/semantic_double_merging_splitter.py:281: UserWarning: [W008] Evaluating Doc.similarity based on empty vectors.\n",
                        "  ).similarity(\n",
                        "/usr/local/lib/python3.11/site-packages/llama_index/core/node_parser/text/semantic_double_merging_splitter.py:323: UserWarning: [W008] Evaluating Doc.similarity based on empty vectors.\n",
                        "  current_nlp.similarity(\n",
                        "/usr/local/lib/python3.11/site-packages/llama_index/core/node_parser/text/semantic_double_merging_splitter.py:336: UserWarning: [W008] Evaluating Doc.similarity based on empty vectors.\n",
                        "  and current_nlp.similarity(\n",
                        "/usr/local/lib/python3.11/site-packages/llama_index/core/node_parser/text/semantic_double_merging_splitter.py:359: UserWarning: [W008] Evaluating Doc.similarity based on empty vectors.\n",
                        "  and current_nlp.similarity(\n"
                    ]
                }
            ],
            "source": [
                "from llama_index.core.node_parser import SemanticDoubleMergingSplitterNodeParser, LanguageConfig\n",
                "\n",
                "config = LanguageConfig(language=\"english\", spacy_model=\"en_core_web_md\")\n",
                "\n",
                "splitter = SemanticDoubleMergingSplitterNodeParser(\n",
                "    language_config=config,\n",
                "    initial_threshold=0.4,\n",
                "    appending_threshold=0.5,\n",
                "    merging_threshold=0.5,\n",
                "    max_chunk_size=5000,\n",
                ")\n",
                "\n",
                "double_merged_nodes = splitter.get_nodes_from_documents(documents)"
            ]
        },
        {
            "cell_type": "code",
            "execution_count": 80,
            "id": "14",
            "metadata": {},
            "outputs": [
                {
                    "name": "stdout",
                    "output_type": "stream",
                    "text": [
                        "Second Chunk:\n"
                    ]
                },
                {
                    "data": {
                        "text/markdown": [
                            "> Meeting\n",
                            "> \n",
                            "> Datum:\n",
                            "> \n",
                            "> 11. Januar 2024\n",
                            "> \n",
                            "> Meeting\n",
                            "> \n",
                            "> Ort:\n",
                            "> \n",
                            "> Präsenzmeeting\n",
                            "> \n",
                            "> Minutes\n",
                            "> \n",
                            "> Zeit\n",
                            "> \n",
                            "> : 10:00 - 12:00\n",
                            "> \n",
                            "> Teilnehmer:\n",
                            "> \n",
                            "> Andreas Weller\n",
                            "> \n",
                            "> Arnhild Thiel\n",
                            "> \n",
                            "> Barbara Haller\n",
                            "> \n",
                            "> Christopher Dörr\n",
                            "> \n",
                            "> David Wirthensohn\n",
                            "> \n",
                            "> Edda Reiß\n",
                            "> \n",
                            "> Florian Diehr\n",
                            "> \n",
                            "> Florian Kemmer\n",
                            "> \n",
                            "> Gerold Diez\n",
                            "> \n",
                            "> Jana Böhm\n",
                            "> \n",
                            "> Gäste:\n",
                            "> \n",
                            "> Anja Schröter\n",
                            "> \n",
                            "> Max Müller\n",
                            "> \n",
                            "> Nächstes CAP CCT Meeting: 11. Januar 2024 Agenda HIP CAP CCT Fortlaufend\n",
                            "> \n",
                            "> 1/9\n",
                            "> \n",
                            "> Roche Diagnostics GmbH; Sandhofer Strasse 116; D-68305 Mannheim; Telefon +49 621 759 0; Telefax +49 621 759 2890\n",
                            "> \n",
                            "> Sitz der Gesellschaft: Mannheim - Registergericht: AG Mannheim HRB 3962 - Geschäftsführung: Claus Haberda; Andreas Schmitz - Aufsichtsratsvorsitzender: Dr. Thomas Schinecker\n",
                            "> \n",
                            "> Confidentiality Note\n",
                            "> \n",
                            "> This message is intended only for the use of the named recipient(s) and may contain confidential and/or privileged information. If you are not the intended recipient, please contact the sender and delete the message. Any unauthorized use of the information contained in this message is prohibited. : Simon Gessler\n",
                            "> \n",
                            "> : Jana Böhm\n",
                            "> \n",
                            "> Julia Körner\n",
                            "> \n",
                            "> Jürgen Richter\n",
                            "> \n",
                            "> Katharine Klyta\n",
                            "> \n",
                            "> Kristin Eikmeier\n",
                            "> \n",
                            "> Moritz Marcinowski\n",
                            "> \n",
                            "> Özgür Dagdelen\n",
                            "> \n",
                            "> Pamela Espindola\n",
                            "> \n",
                            "> Sabrina Mehlhase\n",
                            "> \n",
                            "> Sascha Lutz\n",
                            "> \n",
                            "> Sebastian Pankalla\n",
                            "> \n",
                            "> Simon Gessler\n",
                            "> \n",
                            "> Jürgen Spinke\n",
                            "> \n",
                            "> Claas Andreae\n",
                            "> \n",
                            "> Helmut Walter\n",
                            "> \n",
                            "> Markus Schantz\n",
                            "> \n",
                            "> Ludger Jürgens\n",
                            "> \n",
                            "> CC:\n",
                            "> \n",
                            "> HIP CAP-CCT\n",
                            "> \n",
                            "> ## 1. Zusammenfassung\n",
                            "> \n",
                            "> - ● PE/PTT Aktivitäten Abschlußbericht: Hannah verlässt das HIP Team, das DSRPFS Team für PE-PTT Team wird in anderer Form weitergeführt. - ● Moritz verlässt das HIP Team bis auf das Thema 'unified cut-offs'. - ● Die Möglichkeit einer Entwicklung interner Mehrweg-Trays wird untersucht und bewertet. - ● Entscheidung : Der Roboterbau im Elab zur Unterstützung des KI-Trainings wird gecancelt, da er nicht mehr benötigt wird. - ● CN110 und CN95 Feinschnitte werden Yilmaz angeboten, ansonsten entsorgt. ## 2. Abschluss PE/PTT (Hannah)\n",
                            "> \n",
                            "> 2024-01-11\\_Abschluss\\_HIP.pdf\n",
                            "> \n",
                            "> ## DSRPSF Projektabschluss HIP\n",
                            "> \n",
                            "> 11.01.2024.CAPCCT\n",
                            "> \n",
                            "> Hannah Berberich fur Manuela Reddmann, Melanie Kohlmeier, Katrin Meininger.Christian Albrecht, Christoph Schuck, Lisa Hintz, Jasamin Kabiri und Benjamin Reinhard\n",
                            "> \n",
                            "> Roche Diagnostics GmbH Diagnostics Division\n",
                            "> \n",
                            "> System Integration Dcs\n",
                            "> \n",
                            "> Wann? Wer?"
                        ],
                        "text/plain": [
                            "<IPython.core.display.Markdown object>"
                        ]
                    },
                    "metadata": {},
                    "output_type": "display_data"
                },
                {
                    "name": "stdout",
                    "output_type": "stream",
                    "text": [
                        "Third Chunk:\n"
                    ]
                },
                {
                    "data": {
                        "text/markdown": [
                            "> Was?"
                        ],
                        "text/plain": [
                            "<IPython.core.display.Markdown object>"
                        ]
                    },
                    "metadata": {},
                    "output_type": "display_data"
                }
            ],
            "source": [
                "print(\"Second Chunk:\")\n",
                "display_citation(double_merged_nodes[1].text) \n",
                "\n",
                "print(\"Third Chunk:\")\n",
                "display_citation(double_merged_nodes[2].text) "
            ]
        },
        {
            "cell_type": "markdown",
            "id": "15",
            "metadata": {},
            "source": [
                "## Creating Embeddings\n",
                "\n",
                "Next, in order to test for semantic qualtiy of the chunking, we need to select and use an embedding model. (Shouldn't I use the same for chunking itself).\n",
                "\n",
                "Since we need to use embedding models provided by bedrock, our options are limited to:\n",
                "- \"cohere.embed-multilingual-v3\"\n",
                "- \"cohere.embed-english-v3\"\n",
                "- \"amazon.titan-embed-text-v2:0\"\n",
                "\n",
                "Let's proceed with coheres multilingual model, since the texts are in german. \n",
                "\n",
                "### Using Porktey API \n",
                "\n",
                "Using portkey, the API is:"
            ]
        },
        {
            "cell_type": "code",
            "execution_count": 13,
            "id": "16",
            "metadata": {},
            "outputs": [],
            "source": [
                "import os\n",
                "api_key = os.getenv(\"API_KEY\")\n",
                "assert api_key"
            ]
        },
        {
            "cell_type": "code",
            "execution_count": null,
            "id": "17",
            "metadata": {},
            "outputs": [],
            "source": [
                "from portkey_ai import Portkey\n",
                "\n",
                "_portkey = Portkey(\n",
                "    api_key=api_key,\n",
                "    base_url=\"https://eu.aigw.galileo.roche.com/v1\"\n",
                ")\n",
                "\n",
                "\n",
                "response = _portkey.embeddings.create(\n",
                "    model=\"cohere.embed-multilingual-v3\",\n",
                "    input=[\"okys\"],\n",
                "    input_type=\"search_query\"\n",
                ")"
            ]
        },
        {
            "cell_type": "code",
            "execution_count": 15,
            "id": "18",
            "metadata": {},
            "outputs": [
                {
                    "data": {
                        "text/plain": [
                            "[Embedding(embedding=[0.02583313, 0.006164551, -0.012016296, 0.04901123, -0.046173096, -0.0004286766, 0.019760132, -0.003490448, -0.024307251, -0.0070724487, 0.016036987, -0.0036067963, 0.01864624, -0.0022850037, -0.0066490173, 0.0071907043, 0.037719727, 0.02609253, 0.08074951, 0.0072517395, -0.015670776, -0.0046844482, 0.046081543, -0.024353027, -0.025360107, 0.043670654, 0.07501221, -0.0569458, 0.037261963, 0.044036865, -0.015777588, -0.040100098, 0.076049805, 0.02507019, 0.03277588, 0.0005645752, 0.019134521, -0.0027484894, -0.026626587, 0.020141602, 0.029876709, -0.009765625, -0.010093689, -0.0022010803, -0.04324341, 0.02897644, 0.008171082, -0.022857666, -0.006351471, -0.028869629, -0.03363037, 0.07849121, -0.007820129, -0.0519104, 0.020355225, 0.048980713, 0.037719727, -0.0014982224, -0.0063552856, -0.01525116, 0.0034160614, -0.036499023, -0.023773193, 0.035308838, 0.0138168335, -0.062805176, -0.028701782, -0.044921875, -0.019821167, 0.0042762756, -0.009483337, -0.014419556, 0.0023956299, 0.011268616, 0.0070343018, 0.009880066, -0.015258789, 0.022567749, -0.008285522, -0.016937256, -0.001080513, -0.008666992, 0.07800293, 0.00497818, 0.0115356445, -0.00617218, 0.041412354, 0.00793457, 0.004360199, 0.02381897, -0.038330078, 0.052001953, 0.033294678, -0.014205933, 0.041412354, 0.00039362907, -0.04168701, -0.03643799, 0.011390686, -0.030975342, -0.020553589, -0.054260254, -0.026809692, 0.024169922, -0.030929565, 0.011482239, -0.020431519, -0.029067993, 0.0011987686, 0.022735596, -0.031051636, 0.035827637, -0.008224487, -0.021850586, -0.047332764, -0.06829834, 0.015106201, -0.0025310516, 0.016830444, -0.03161621, -0.0024719238, 0.002193451, -0.019500732, 0.02192688, -0.006111145, 0.0008649826, 0.02468872, -0.031280518, -0.011108398, -0.05505371, -0.05682373, -0.022201538, -0.00057029724, 0.022506714, 0.03555298, -0.05090332, -0.010810852, 0.014709473, 0.018447876, -0.03717041, 0.0209198, -0.01121521, 0.00082588196, 0.013793945, -0.0054473877, -0.033416748, 0.05014038, 0.014480591, -0.031402588, 0.0065612793, 0.009628296, -0.03967285, 0.04901123, -0.013252258, -0.050567627, 0.033966064, 0.042938232, -0.031341553, -0.0041923523, 0.028503418, -0.05114746, -0.031402588, 0.05859375, -0.009689331, 0.048583984, -0.014312744, 0.018875122, -0.007865906, -0.0015420914, 0.006919861, 0.009651184, -0.016494751, 0.0021705627, -0.020065308, -0.050231934, -0.049621582, 0.0005469322, 0.03152466, 0.015380859, -0.03164673, 0.019454956, -0.05593872, 0.01701355, 0.008201599, 0.03491211, 0.024154663, -0.049041748, -0.04248047, 0.029281616, 0.0871582, -0.010147095, -0.009414673, -0.055419922, 0.031097412, -0.025909424, -0.0012254715, 0.02670288, -0.037200928, 0.068237305, 0.050109863, 0.058776855, -0.03137207, 0.012374878, -0.023803711, -0.01889038, -0.0071105957, 0.0085372925, -0.0056877136, -0.04815674, 0.06500244, -0.033294678, -0.011756897, 0.013687134, 0.048980713, 0.004421234, -0.042297363, 0.014717102, -0.05609131, -0.01108551, 0.014808655, 0.07330322, 0.018218994, 0.0033950806, 0.07385254, 0.022262573, -0.0463562, -0.006084442, -0.01625061, 0.008346558, -0.0016698837, 0.015281677, -0.04095459, 0.026901245, -0.057678223, 0.045166016, 0.02885437, -0.021942139, 0.002714157, -0.022521973, -0.060760498, 0.058776855, 0.013771057, -0.036315918, -0.010009766, -0.020889282, -0.012504578, -0.0149002075, -0.045654297, 0.034820557, -0.04525757, -0.0044898987, 0.021392822, 0.01360321, -0.020736694, 0.041168213, -0.06530762, 0.00737381, -0.04284668, -0.006931305, 0.005569458, -0.008636475, -0.034362793, 0.007751465, -0.012420654, 0.0033187866, 0.06451416, -0.037078857, 0.019134521, -0.020202637, -0.07171631, 0.026870728, -0.015625, 0.017349243, -0.02331543, 0.009422302, 0.06518555, -0.020065308, 0.041015625, -0.018325806, 0.0052261353, 0.05621338, -0.017684937, -0.01134491, -0.004135132, -0.09918213, -0.014137268, -0.06463623, 0.0064430237, -0.05392456, -0.058044434, -0.087402344, -0.035583496, 0.021133423, -0.036499023, -0.016723633, 0.008506775, -0.01687622, 0.030944824, -0.026000977, -0.029876709, -0.026367188, -0.0023345947, -0.0022563934, -0.01713562, 0.0096206665, 0.025161743, 0.009765625, 0.009742737, 0.038116455, -0.018753052, -0.0020389557, 0.002614975, 0.042816162, 0.032318115, -0.010292053, 0.00856781, -0.019943237, -0.04147339, -0.027862549, 0.054992676, 0.020141602, -0.014633179, 0.0079193115, -0.012893677, -0.023239136, 0.010520935, -0.02166748, -0.019454956, -0.022460938, 0.014137268, -0.009376526, 0.04788208, 0.026184082, -0.017105103, 0.06542969, 0.05569458, -0.04019165, -0.031799316, -0.008125305, 0.00843811, -0.02519226, -0.02330017, 0.018859863, 0.018066406, 0.005970001, 0.022125244, 0.0053710938, -0.016921997, -0.0012331009, 0.009651184, 0.019058228, 0.052490234, 0.05935669, 0.010055542, 0.01637268, -0.042663574, 0.045013428, -0.046783447, 0.0044784546, -0.00868988, 0.04159546, -0.046569824, -0.009651184, 0.034820557, 0.011291504, 0.008987427, -0.005306244, 0.0022010803, -0.027557373, 0.05117798, 0.013946533, 0.0055732727, 0.015701294, -0.017044067, -0.0009226799, 0.033477783, 0.0056991577, 0.005584717, -0.02720642, 0.03894043, -0.015716553, 0.008026123, -0.013748169, 0.033935547, 0.0022144318, -0.010612488, 0.036468506, -0.007980347, -0.015586853, 0.040618896, 0.080078125, 0.008476257, 0.012084961, 0.016723633, -0.01033783, 0.013336182, -0.036346436, 0.025787354, -0.04901123, -0.013725281, 0.031173706, -0.029876709, 0.011421204, 0.0034160614, 0.00982666, 0.04815674, 0.022003174, -0.010185242, -0.0068359375, -0.04168701, -0.016998291, 0.022857666, 0.012313843, 0.0088272095, 0.030227661, -0.05618286, 0.0035057068, 0.017227173, -0.042297363, -0.0018234253, 0.012786865, -0.013298035, -0.029907227, -0.00969696, 0.010322571, 0.050445557, 0.012123108, -0.06652832, 0.0748291, -0.0065727234, -0.0016584396, 0.014343262, 0.010688782, 0.032043457, 0.0028705597, 0.01626587, -0.051330566, 0.01864624, -0.017120361, -0.0052490234, 0.02961731, 0.0066223145, 0.025817871, -0.016723633, 0.03186035, -0.0154800415, 0.036499023, 0.016921997, -0.013519287, 0.04675293, -0.006855011, 0.0070877075, 0.02267456, 0.021011353, -0.013473511, -0.02532959, -0.033203125, -0.0047073364, 0.01171875, 0.024047852, 0.0056266785, 0.0040779114, -0.0037593842, -0.015403748, -0.03515625, -0.0118637085, 0.006893158, -0.010620117, -0.028259277, 0.026245117, -0.034210205, 0.034606934, -0.016830444, -0.023635864, 0.037597656, -0.03656006, -0.03048706, 0.002943039, 0.009170532, 0.008712769, -0.00020170212, 0.015930176, -0.0012950897, 0.010353088, 0.0075416565, 0.02357483, 0.012504578, -0.0021476746, 0.056274414, -0.05441284, -0.005844116, 0.024276733, 0.016540527, 0.0340271, -0.015350342, -0.022125244, 0.013542175, -0.0056877136, -0.0026454926, -0.031280518, -0.014183044, 0.0018978119, 0.0287323, 0.024597168, -0.010032654, 0.0034675598, 0.033050537, 0.007762909, -0.01525116, 0.012687683, 0.008453369, -0.03475952, 0.013839722, 0.029129028, 0.015823364, -0.014762878, 0.042175293, 0.002407074, 0.040863037, -0.0446167, 0.048217773, 0.049102783, -0.006843567, 0.004245758, -0.018707275, 0.006061554, -0.039367676, 0.0135269165, -0.08984375, -0.019760132, 0.021575928, 0.019088745, -0.045959473, -0.015731812, -0.0037193298, -0.0058784485, 0.03793335, -0.030471802, 0.042999268, 0.017547607, 0.0024604797, -0.013267517, -0.0107421875, 0.04220581, 0.04031372, 0.00044989586, 0.010734558, 0.007926941, -0.04324341, -0.01928711, -0.020065308, 0.017227173, -0.003314972, -0.00079774857, 0.029510498, 0.056030273, 0.01499939, -0.00028419495, -0.029373169, -0.017105103, -0.06298828, 0.0046463013, -0.019973755, 0.037750244, 0.010513306, -0.03930664, 0.034973145, 0.016983032, 0.026535034, 0.021331787, -0.025268555, -0.07537842, -0.033111572, -0.0103302, -0.014541626, 0.014129639, 0.027069092, -0.061798096, -0.080444336, -0.042388916, -0.02456665, 0.0446167, 0.03353882, 0.00042295456, 0.01689148, -0.0770874, -0.012252808, -0.0072784424, -0.02357483, 0.007385254, 0.006340027, -0.04031372, -0.018096924, 0.005065918, 0.017059326, 0.043701172, 0.004837036, 0.022415161, 0.037078857, 0.040222168, 0.019210815, 0.0063171387, -0.031234741, -0.060791016, -0.021377563, 0.0024089813, 0.06500244, -0.050048828, -0.046661377, 0.032836914, -0.00020956993, -0.014892578, -0.0025348663, 0.0030841827, -0.036010742, 0.021392822, -0.04623413, -0.0073890686, 0.03717041, 0.04269409, -0.020996094, -0.032928467, -0.00033688545, 0.010940552, -0.026519775, 0.017532349, 0.036895752, 0.057922363, -0.03451538, 0.031021118, -0.03326416, -0.01725769, -0.032348633, -0.031799316, 0.011360168, -0.050598145, -0.019805908, -6.020069e-05, -0.037597656, -0.0032043457, 0.04977417, 0.021484375, -0.003419876, 0.027526855, 0.0126953125, 0.010360718, -0.03164673, 0.0015029907, -0.04257202, 0.056793213, 0.0046844482, 0.030456543, 0.0026130676, -0.061035156, -0.013252258, 0.061279297, 0.022766113, 0.059020996, -0.02456665, 0.053375244, 0.04446411, 0.058776855, 0.00016665459, 0.06994629, -0.014480591, -0.020019531, 0.008071899, -0.006454468, 0.0031833649, -0.0043029785, 0.011329651, 0.049468994, 0.017105103, 0.019302368, 0.02154541, -0.00724411, -0.041015625, 0.0039711, -0.0049057007, -0.035247803, 0.031280518, 0.043426514, 0.0026016235, -0.00932312, 0.0047454834, 0.04119873, -0.004688263, -0.0131073, 0.0036411285, -0.00705719, -0.0055618286, 0.04421997, 0.064086914, 0.00034093857, -0.018859863, 0.050231934, -0.0143585205, -0.06530762, 0.0009841919, -0.028549194, 0.003025055, -0.032562256, -0.02822876, -0.02708435, -0.011642456, -0.0524292, 0.015686035, -0.027175903, 0.03756714, 0.0042495728, 0.04171753, 0.03186035, -0.021072388, 0.0019989014, -0.021087646, 0.03048706, -0.011024475, 0.021347046, -0.033081055, 0.045074463, -0.023971558, -0.04385376, -0.0021362305, -0.053771973, 0.057800293, 0.0039749146, -0.0019569397, -0.025756836, -0.01309967, 0.060333252, -0.0017957687, -0.04119873, 0.029174805, 0.0501709, 0.01776123, -0.000620842, 0.010810852, -0.051574707, 0.032562256, 0.0029945374, -0.00844574, 0.043823242, -0.046661377, -0.03161621, 0.016983032, 0.0066871643, -0.012626648, 0.00048685074, -0.010292053, -0.021469116, -0.011100769, 0.027435303, 0.034088135, -0.024337769, -0.024047852, -0.008926392, 0.019104004, 0.033416748, 0.06185913, 0.043701172, 0.0066375732, 0.025726318, -0.034729004, 0.0056762695, -0.010749817, 0.0014762878, -0.012893677, 0.039215088, 0.019821167, 0.053497314, -0.024307251, 0.018157959, -0.012496948, -0.012145996, 0.020401001, 0.0149002075, 0.0023460388, 0.003698349, 0.046081543, -0.020568848, -0.036956787, -0.023635864, 0.013259888, -0.019515991, -0.032562256, 0.0013599396, -0.0017948151, -0.039794922, 0.06124878, 0.008270264, -0.06427002, -0.040283203, 0.0546875, -0.009506226, 0.009597778, -0.0074920654, 0.010437012, -0.0003077984, 0.016647339, -0.05307007, 0.038635254, -0.015686035, -0.014663696, 0.0007863045, -0.042877197, -0.0019168854, -0.070007324, -0.017089844, 0.02545166, -0.002922058, -0.03515625, 0.029632568, 0.07098389, 0.01689148, 0.036132812, 0.017074585, 0.049194336, 0.018722534, -0.010787964, 0.013458252, 0.051971436, 0.014877319, -0.00041270256, 0.037506104, -0.05722046, 0.013397217, -0.0005340576, -0.034973145, -0.08074951, -0.027267456, -0.076416016, -0.008964539, -0.042785645, 0.0597229, -0.04473877, -0.027893066, -0.019638062, 0.0050468445, -0.004524231, 0.02671814, 0.060913086, -0.023864746, -0.029342651, 0.0061683655, 0.03677368, 0.030822754, 0.033325195, 0.05432129, 0.024124146, 0.0597229, 0.018798828, -0.005405426, 0.064453125, -0.0064697266, 0.020614624, -0.030715942, -0.005302429, 0.00026392937, 0.029403687, -0.016571045, -0.016586304, -0.015274048, -0.06021118, 0.026870728, 0.026351929, 0.0044822693, 0.027526855, 0.023483276, 0.03527832, -0.03338623, 0.009895325, -0.028427124, 0.03793335, -0.04031372, 0.0018463135, -0.009994507, 0.043151855, 0.0051574707, 0.014320374, 0.061584473, 0.037719727, -0.012191772, -0.011894226, 0.008239746, 0.030548096, -0.0031642914, -0.03161621, 0.051513672, -0.01651001, -0.016159058, 0.038269043, 0.008506775, 0.049804688, 0.01701355, -0.0012254715, -0.03540039, 0.10656738, -0.0058403015, -0.08666992, 0.022567749, -0.04498291, -0.030929565, 0.03515625, -0.022140503, -0.056640625, 0.031555176, 0.038116455, -0.006198883, -0.03466797, 0.01675415, -0.008033752, -0.032684326, -0.0657959, 0.014984131, 0.009399414, -0.028808594, -0.039123535, -0.010673523, -0.072265625, -0.008804321, -0.020553589, 0.0075263977, -0.007423401, -0.020843506, -0.02720642, -0.021957397, 0.031234741, 0.0026378632, 0.017318726, 0.017929077, -0.029418945, 0.019882202, -0.0071907043, -0.030197144, 0.01586914, -0.0154418945, 0.004989624, 0.0019989014, 0.013008118, 0.01902771, 0.03955078, -0.012145996, -0.054382324, -0.032684326, 0.0552063, -0.012939453, -0.02645874, -0.006088257, 0.02029419, -0.0058555603, 0.03967285, -0.019546509, 0.03338623, -0.046173096, -0.046081543, -0.00970459, 0.0029067993, 0.010246277, 0.04763794, -0.031677246, 0.003501892, -0.011314392, -0.00554657, -0.010269165, 0.0035171509, -0.020401001, 0.025497437, -0.03829956, -0.0048446655, 0.009887695, 0.010894775, 0.02684021, 0.005302429, 0.009048462, -0.015701294, 0.000726223, -0.01071167, 0.01789856, -0.01625061, -0.03265381, -0.021133423, 0.022033691, -0.0036468506, 0.047668457, -0.002243042, 0.0064964294, 0.013595581, 0.01638794, -0.0038204193, 0.010375977, -0.009986877, -0.0026779175, -0.05859375, -0.060577393, 0.055725098, 0.043670654, -0.035614014, -0.01348114, 0.06304932, 0.05529785, 0.016784668, 0.0058555603, -0.028701782, 0.029403687, 0.00491333, -0.012145996, -0.009132385, -0.02810669, -0.07092285, 0.01878357, -0.008956909, -0.02078247, 0.07849121, -0.06866455, -0.011955261, -0.013053894, -0.027770996, -0.021209717, -0.029525757, -0.0019626617, -0.005252838, 0.06677246, 0.023910522, -0.07531738], index=0, object='embedding')]"
                        ]
                    },
                    "execution_count": 15,
                    "metadata": {},
                    "output_type": "execute_result"
                }
            ],
            "source": [
                "response.data"
            ]
        },
        {
            "cell_type": "markdown",
            "id": "19",
            "metadata": {},
            "source": [
                "The API for Titan models is somewhat different. It requies plain text input and no input type specification. You can also determine the embedding size:"
            ]
        },
        {
            "cell_type": "code",
            "execution_count": null,
            "id": "20",
            "metadata": {},
            "outputs": [],
            "source": [
                "response = _portkey.embeddings.create(\n",
                "    model=\"amazon.titan-embed-text-v2:0\",\n",
                "    input=\"okys\",\n",
                "    dimensions=512\n",
                ")"
            ]
        },
        {
            "cell_type": "code",
            "execution_count": 17,
            "id": "21",
            "metadata": {},
            "outputs": [
                {
                    "data": {
                        "text/plain": [
                            "[Embedding(embedding=[-0.060042575001716614, 0.0296210628002882, 0.08858203142881393, 0.03670750930905342, -0.016825852915644646, 0.0015104481717571616, 0.019672004505991936, 0.011552215553820133, -0.03180985897779465, -0.0035907060373574495, -0.0306951105594635, -0.03401561081409454, -0.0015251456061378121, 0.022168314084410667, 0.005408670753240585, 0.022326594218611717, -0.023470737040042877, -0.016574230045080185, 0.013743269257247448, -0.026170549914240837, 0.0254255011677742, 0.02026442624628544, 0.024230483919382095, 0.005127157550305128, -0.039077192544937134, -0.016510916873812675, -0.014498492702841759, 0.001827009255066514, 0.05058644711971283, -0.036047253757715225, 0.03512018173933029, 0.014681645669043064, -0.040112800896167755, 0.008755172602832317, 0.015665248036384583, 0.05554401874542236, 0.02082066796720028, -0.017981231212615967, 0.017763596028089523, 0.04932020232081413, -0.027323735877871513, -0.052232563495635986, -0.0035138269886374474, -0.04673345014452934, -0.0009768168674781919, 0.02244417555630207, 0.0014380913926288486, -0.01146629173308611, 0.023420991376042366, -0.022368991747498512, 0.03451871499419212, 0.010310843586921692, 0.0038730669766664505, 0.044994622468948364, -0.05886225402355194, -0.05803467333316803, -0.01786760799586773, 0.01075176801532507, 0.04201216995716095, -0.0505683571100235, -0.0026048447471112013, 0.048384085297584534, -0.00991740357130766, 0.018614917993545532, 0.03182794898748398, -0.03211737424135208, -0.011111291125416756, 0.0006557334563694894, -0.07478979974985123, 0.03173298016190529, 0.01467712502926588, -0.01307849120348692, 0.021519364789128304, 0.06540828198194504, -0.03521854430437088, -0.00010853519779630005, 0.07792827486991882, -0.026880551129579544, 0.022233888506889343, -0.030799124389886856, -0.004373064264655113, -0.022909970954060555, -0.04314274340867996, -0.021128186956048012, -0.035669077187776566, -0.05981193482875824, -0.021494492888450623, 0.03332483023405075, -0.06488822400569916, 0.026505200192332268, 0.027898067608475685, -0.00865907408297062, -0.009839111939072609, 0.021146275103092194, 0.05023469403386116, -0.06831386685371399, -0.013964862562716007, -0.012273522093892097, -0.01901175081729889, -0.03679117187857628, -0.0015364513965323567, 0.03307723253965378, 0.017499040812253952, 0.03668489679694176, 0.044345673173666, 0.024280227720737457, 0.010568615049123764, -0.00029847180121578276, -0.01172519288957119, -0.06709284335374832, -0.050317369401454926, -0.04051528498530388, -0.07270954549312592, -0.021769221872091293, -0.0030649888794869184, 0.004911217838525772, 0.0331801176071167, 0.03512018173933029, 0.07058872282505035, -0.03883751481771469, -0.035610850900411606, 0.010645494796335697, 0.02074379101395607, 0.003189351875334978, -0.02267933450639248, 0.01542104221880436, -0.01839728094637394, -0.0694376528263092, 0.04490078613162041, 0.0905500128865242, -0.008560714311897755, 0.046100325882434845, -0.02074379101395607, 0.03254247456789017, 0.0005788544076494873, -0.012445368804037571, -0.00023982321727089584, 0.005761410109698772, 0.026310741901397705, -0.019365618005394936, 0.053555335849523544, -0.06907050311565399, 0.03673916682600975, 0.020847802981734276, 0.02018754743039608, -0.0016868178499862552, -0.0012334573548287153, -0.00029508006991818547, 0.029850851744413376, -0.019954649731516838, -0.032424893230199814, 0.01871327869594097, -0.0002781214425340295, -0.05061471089720726, -0.02508406713604927, -0.003758031176403165, -0.038358431309461594, -0.009295588359236717, -0.046059343963861465, 0.03094383515417576, 0.016748622059822083, 0.0005101719871163368, -0.015118049457669258, 0.019826892763376236, 0.0313350185751915, 0.031900305300951004, 0.041137102991342545, -0.045960135757923126, -0.01923673413693905, 0.00010627404844854027, -0.036413561552762985, 0.03928578272461891, 0.014724609442055225, 0.043070387095212936, 0.008827529847621918, -0.021526146680116653, 0.020006654784083366, 0.02173982560634613, 0.04625408351421356, 0.017826907336711884, 0.03413093090057373, -0.012671484611928463, 0.01503212470561266, -0.05769098177552223, 0.04770122095942497, -0.043165355920791626, 0.013982950709760189, -0.018285920843482018, 0.029250236228108406, -0.03791496530175209, -0.030687198042869568, -0.024592267349362373, 0.002157137030735612, -0.007054788060486317, 0.003843954997137189, -0.0017269531963393092, -0.01304683554917574, -0.011859731748700142, -0.011321578174829483, -0.04039544612169266, -0.024194305762648582, -0.007972815074026585, -0.022403474897146225, 0.012232821434736252, -0.023574749007821083, -0.022928060963749886, 0.007027653977274895, 0.013926775194704533, 0.012354923412203789, -0.004061025567352772, -0.05482384189963341, 0.021332819014787674, 0.02963915467262268, 0.0003572617133613676, -0.018659010529518127, 0.008106223307549953, -0.0069892145693302155, 0.004079114645719528, 0.024413635954260826, -0.0593707337975502, -0.0008592369849793613, 0.008947370573878288, 0.017176827415823936, 0.006819628179073334, 0.032388996332883835, 0.05021561682224274, 0.004544911440461874, 0.015085261315107346, -0.06569545716047287, 0.023167742416262627, 0.042161405086517334, 0.03295852243900299, -0.04867803677916527, 0.043883129954338074, -0.005486680194735527, 0.0023826868273317814, 0.08337990939617157, -0.02253914438188076, 0.005414323881268501, 0.013137280941009521, -0.01322320569306612, 0.04556669667363167, -0.00020293820125516504, 0.044354718178510666, 0.00011305749649181962, -0.011999922804534435, 0.006285997107625008, 0.010582181625068188, 0.00723115773871541, -0.1308211088180542, 0.0010333455866202712, -0.023201659321784973, -0.014837665483355522, 0.03798505663871765, -0.0008682815823704004, -0.0017139517003670335, 0.0029100999236106873, 0.038116205483675, 0.017536349594593048, 0.06717876344919205, 0.07310750335454941, -0.030995843932032585, -0.021896976977586746, 0.04523204267024994, -0.0740065947175026, -0.0035240021534264088, -0.01723448559641838, 0.048167016357183456, 0.015384864062070847, 0.04288497194647789, 0.03533725440502167, -0.005412062164396048, -0.012090369127690792, 0.02556908316910267, 0.0431065633893013, -0.030959665775299072, 0.029591670259833336, -0.005983002949506044, 0.006828673183917999, -0.009548836387693882, -0.007470839656889439, 0.0310048870742321, -0.008619504049420357, 0.05778481811285019, -0.015965981408953667, 0.026600167155265808, -0.02239442802965641, 0.024547044187784195, 0.0008236238500103354, -0.03040568344295025, 0.00366080179810524, 0.041256941854953766, -0.011397326365113258, 0.0009768168674781919, -0.006118671968579292, 0.00878230668604374, -0.005517205689102411, -0.02427118457853794, -0.023274017497897148, 0.01722091995179653, 0.008479312993586063, 0.018491685390472412, -0.018848946318030357, -0.010096034966409206, 0.03729088604450226, -0.042984459549188614, 0.022715512663125992, 0.005841681268066168, -0.01290438324213028, 0.01291342731565237, 0.05646543577313423, 0.037444643676280975, 0.036125265061855316, 0.001049173646606505, -0.021037738770246506, -0.07066545635461807, 0.04658421128988266, -0.029486527666449547, 0.028042782098054886, -0.008780045434832573, 0.018197735771536827, 0.005716187413781881, 0.009103390388190746, 0.017808817327022552, 0.02052219770848751, -0.02879800647497177, -0.022248584777116776, -0.0044115036725997925, -0.0004884084337390959, 0.026260994374752045, 0.008337990380823612, -0.01694505847990513, 0.001716212835162878, -0.039405062794685364, -0.04583350941538811, 0.006986953318119049, -0.014061808586120605, -0.02758602984249592, 0.013923031277954578, -0.01849846914410591, 0.03735419735312462, 0.0022882840130478144, 0.06369094550609589, 0.01906997337937355, -0.01808072067797184, 0.010057594627141953, -0.023638062179088593, -0.022308506071567535, 0.005670964252203703, -0.034649863839149475, -0.005942302290350199, -0.038728978484869, -0.005263957194983959, -0.031552087515592575, -0.01374772097915411, -0.02866685949265957, 0.05073314160108566, 0.019861942157149315, -0.0010469123953953385, 0.08477277308702469, 0.022888490930199623, 0.04523656517267227, -0.0260484479367733, 0.01050530280917883, 0.030421510338783264, -0.024293795228004456, -0.024568524211645126, 0.02418978326022625, 0.003789687529206276, 0.06579267978668213, -0.038634009659290314, 0.05347167328000069, -0.0026726792566478252, -0.008815376088023186, 0.0032108330633491278, 0.0065573351457715034, -0.01834527589380741, 0.00827411375939846, 0.030308453366160393, -0.054009828716516495, 0.02059907652437687, 0.024311885237693787, 0.007072876673191786, 0.00861724279820919, -0.04223376139998436, -0.027348609641194344, -0.022105002775788307, 0.011073911562561989, 0.0359613299369812, 0.006909508723765612, 0.02033226005733013, -0.037311237305402756, -0.00543580437079072, -0.0010378678562119603, 0.009067211300134659, 0.01353298220783472, -0.034403398633003235, 0.007226635701954365, 0.023089732974767685, -0.018969634547829628, -0.009926448576152325, 0.01946284994482994, 0.03157243877649307, 0.0638413056731224, -0.021001560613512993, 0.005413193255662918, -0.016562923789024353, -0.014448747970163822, 0.02194446139037609, 0.027771443128585815, 0.008561844006180763, 0.03139493614435196, -0.006937208119779825, -0.014498492702841759, -0.02023277059197426, 0.028290944173932076, -0.028449788689613342, -0.0030299408826977015, -0.009587276726961136, 0.04366280511021614, 0.017704805359244347, -0.08725325763225555, 0.03663458675146103, -0.007937202230095863, 0.015267284587025642, 0.0014770962297916412, -0.008167274296283722, -0.03957012668251991, 0.02503601834177971, -0.041200414299964905, -0.008936065249145031, 0.03301053121685982, -0.016201140359044075, -0.03354642167687416, 0.006919119041413069, 0.022493919357657433, 0.012124286033213139, 0.0685490220785141, -0.02283761464059353, 0.04756554961204529, 0.010081336833536625, -0.009646065533161163, 0.03802010789513588, -0.02134525589644909, -0.030887309461832047, -0.014602506533265114, -0.05279332771897316, -0.003102297894656658, -0.01704454980790615, -0.01005533430725336, 0.008334598504006863, -0.056442826986312866, 0.0100089805200696, -0.038367193192243576, 0.000492930703330785, 0.003914050757884979, 0.017515432089567184, -0.03713712841272354, -0.0023696853313595057, 0.09173033386468887, 0.02132490649819374, 0.01760079339146614, -0.027188066393136978, 0.024438509717583656, -0.015547666698694229, -0.012590083293616772, -0.013996517285704613, 0.03482171148061752, -0.009582753293216228, 0.018053021281957626, 0.02549220435321331, -0.011246959678828716, 0.006118671968579292, 0.07284294813871384, 0.0051952749490737915, 0.02709762193262577, -0.02814340405166149, -0.05435239151120186, -0.012994828633964062, 0.0059061236679553986, -0.05796514078974724, 0.02301398478448391, -0.0003369113546796143, 0.03251533955335617, 0.0420384556055069, 0.020024744793772697, -0.04217497259378433, 0.00870542787015438, -0.02304564043879509, -0.005903862416744232, -0.00015828049799893051, -0.015021950006484985, 0.014720086008310318, -0.007721827365458012, -0.022618282586336136, 0.038860123604536057, -0.01842384971678257, 0.012621738947927952, 0.010969968512654305, -0.04629761353135109, 0.029612021520733833, 0.004818510729819536, 0.01699480228126049, -0.06038428843021393, 0.01904001273214817, -0.06518895924091339, 0.0006048576324246824, 0.005511553026735783, 0.010769857093691826, -0.02349673956632614, 0.03695227950811386, -0.029738644137978554, -0.02874147705733776, 0.0027071619406342506, 0.016845567151904106, 0.053467150777578354, 0.0033351960591971874, -0.05232074856758118, 0.045702364295721054, 0.005324442870914936, -0.013173460029065609, -0.01836053840816021, 0.020413661375641823, 0.0034595595207065344, -0.0032395212911069393, -0.04235586151480675, 0.014469098299741745, 0.003988668788224459, -0.04090646654367447, -0.003821343183517456, -0.01179924514144659, 0.031140556558966637, -0.00041605159640312195, 0.02906482107937336, 0.04227643832564354, -0.000492930703330785, -0.04142200946807861, -0.015536360442638397, -0.024352585896849632, -0.0015895883552730083, -0.04305229336023331, -0.008807179518043995, 0.01467486284673214, 0.06049028038978577, 0.04478885605931282, -0.05086682736873627, -0.012013154104351997, 0.034903112798929214, -0.029833612963557243, 0.011581610888242722, -0.007382407318800688, 0.04540162906050682, -0.03748082369565964, 0.017828037962317467, 0.03696528077125549, -0.0019956063479185104, 0.0032560559920966625, 0.028626158833503723, 0.0378047339618206, -0.012626261450350285, -0.009650588035583496, -0.0179942324757576, 0.035807572305202484, -0.02940625511109829, -0.02830507420003414, 0.030333325266838074, -0.021906020119786263, -0.023891311138868332, 0.009619497694075108, -0.01252450980246067, 0.004061025567352772, 0.006943991407752037, -0.016232796013355255, 0.0063006943091750145, -0.044924527406692505, -0.011409763246774673, -0.009820174425840378, -0.003228922141715884, -0.008189885877072811, -0.028440743684768677, -0.022484876215457916, -0.014094877988100052, -0.00231668958440423, -0.04228350520133972, -0.031918395310640335, -0.030950618907809258, -0.005453893914818764, -0.01900750957429409, 0.014995946548879147, -0.009419950656592846, -0.0027902591973543167, -9.044599573826417e-05, 0.03829031437635422, -0.0001786308566806838, -0.019622260704636574, 0.02145152911543846, -0.03510322421789169, 0.021372390910983086, 0.05802326649427414, 0.031267184764146805, -0.06148518994450569, -0.053238775581121445, 0.042527709156274796, -0.02872338891029358, 0.0074798837304115295, -0.015000468119978905, 0.02909895032644272, 0.010161608457565308, 0.00527752423658967, 0.05411610007286072, 0.017355456948280334, 0.043590448796749115, -0.019133852794766426, 0.037180088460445404, 0.03413432091474533, 0.04142426699399948, 0.021295510232448578, 0.008610459975898266, 0.02757246233522892, 0.007062701508402824, -0.027432270348072052, 0.011219826526939869, 0.03474031016230583, -0.004219306167215109, -0.006950774695724249, 0.06035121902823448, 0.017745506018400192, 0.014494183473289013, -0.04147401452064514, -0.0009632498840801418, -0.007328387349843979, -0.0768790990114212, -0.01837862655520439, -0.012544860132038593, -0.04562774673104286, 0.0014211328234523535, -0.028467876836657524, -0.0025288136675953865, 0.0027450360357761383, -0.003699241206049919, 0.07795540988445282, -0.004859211388975382, -0.03616935759782791, 0.08134487271308899, -0.009510396979749203, -0.04980635270476341, 0.02950461581349373, 0.053548552095890045, -0.0010378678562119603, -0.025948956608772278, -0.01707620546221733, -0.007660776376724243, 0.000599204795435071, -0.007932114414870739, 0.05051635205745697, -0.03346841409802437, 0.0322711355984211, 0.01601346582174301, -0.007841668091714382, -0.012329909950494766, -0.015753431245684624, 0.0014878367073833942, 0.009822435677051544, 0.003337457310408354, 0.008949631825089455, -0.017040027305483818, 0.02190149948000908, 0.0026048447471112013, 0.009419950656592846, -0.00032560559338890016, -0.027909938246011734, 0.015547666698694229, -0.012998785823583603, 0.010672627948224545, -0.03953394666314125, -0.0359613299369812, 0.05327269434928894, -0.004791376646608114, 0.003360068891197443, -0.004449943080544472, 0.02480933628976345, -0.060535505414009094, -0.019189249724149704, -0.002850179560482502, -0.0063882432878017426, 0.003810885827988386, 0.03675386309623718, -0.016025053337216377, 0.015895884484052658, -0.013061532750725746, 0.0055669513531029224, 0.032280176877975464, -0.01703776605427265, 0.0018157033482566476, -0.003155434736981988, -0.01305587962269783, 0.007529629394412041, 0.00481624947860837, -0.07950203120708466, 0.026262126863002777, 0.027778226882219315, -0.01609034463763237, 0.023517657071352005, -0.0211021825671196, 0.0013980973744764924, 0.05062262341380119, 0.0031531737186014652, 0.0025370102375745773, -0.001078568515367806, -0.031016195192933083, -0.026505200192332268, -0.03240228071808815, -0.008422783575952053, 0.04695051908493042, -0.0196810495108366, -0.040840890258550644, 0.0028671380132436752, -0.013711613602936268, -0.019210729748010635, 0.031619925051927567, 0.042052868753671646, 0.015339640900492668, 0.004852427635341883, -0.023859653621912003, -0.005370655562728643, 0.04110770672559738, -0.009944537654519081, -0.03058883734047413, 0.0010497389594092965, -0.02056742087006569, 0.04973851516842842, -0.04401780664920807, -0.048550281673669815, -0.005109068471938372, 0.04741179198026657, -0.022119982168078423, 0.019405189901590347, -0.029553228989243507, 0.005401886999607086, -0.05270514264702797, -0.05464747175574303, 0.04129764437675476, -0.0056393081322312355, -0.024478644132614136, 0.021912874653935432, 0.03497999161481857, 0.006622908171266317, -0.022674812003970146, -0.011825814843177795, -0.035680945962667465, -0.03491668030619621, 0.005752365570515394, -0.03751474246382713, 0.021639205515384674, -0.0224893968552351, -0.08564331382513046, -0.043213967233896255, 0.0135714216157794, -0.06077970936894417, 0.04329649731516838, 0.058410026133060455, -0.006851284299045801, 0.0003210832946933806, -0.016531268134713173, 0.00574105978012085, -0.02315530553460121, -0.0308601763099432, -0.02989240176975727, -0.008286549709737301, 0.003265153616666794, -0.07241106778383255, 0.037159740924835205, -0.03003711625933647, 0.01863187737762928, 0.01713612675666809, 0.0072537693195044994, 0.021191498264670372, 0.04321509599685669, 0.0659894049167633, -0.04195563867688179, 0.01513613760471344, -0.058170340955257416, -0.015391647815704346, 0.020097101107239723, 0.002732599852606654, 0.044354718178510666, -0.010880653746426105, 0.045942045748233795, -0.007538674399256706, -0.04196920618414879, 0.0046704052947461605, -0.012843332253396511, 0.03247011452913284, 0.02033226005733013, -0.05667346343398094, -0.007882368750870228, 0.015000468119978905, 0.025876600295305252, 0.038891781121492386, 0.05760053172707558, -0.04508733004331589, 0.009890270419418812, 0.009003899991512299, 0.005780630279332399, 0.014181721024215221, 0.0063221752643585205, -0.04923427850008011, -0.0026410233695060015, -0.020931465551257133, 0.008089263923466206, 0.027974946424365044, -0.011120336130261421, -0.04908278211951256, -0.020714396610856056, 0.0204656682908535, 0.03767358511686325, -0.06921832263469696, -0.056698333472013474, -0.018333405256271362, 0.027549849823117256, -0.07454785704612732, -0.008185363374650478, 0.002498570829629898, 0.02944921888411045, 1.3566899724537507e-05, 0.0243344958871603, -0.025958001613616943, 0.005892557092010975, -0.005698097869753838, 0.026547489687800407, -0.02508067525923252, 0.04953388124704361, -0.0025145402178168297, -0.014679385349154472, 0.0014290468534454703, -0.004555086605250835, 0.0306951105594635, 0.00554320914670825, -0.02377825230360031, 0.04120945930480957, -0.04664752259850502, -0.02832796797156334, -0.005616696551442146, -0.017419900745153427, 0.004431854002177715, 0.05557002127170563, 0.006972256116569042, 0.025193732231855392, -0.04667730629444122, -0.016655631363391876, -0.058744676411151886, 0.03829116001725197, 0.031027499586343765, 0.0004567523137666285, 0.033315785229206085, 0.010560701601207256, 0.010351545177400112, -0.01087076123803854, 0.0005155422259122133, -0.021670861169695854, 0.002333506941795349, -0.012707662768661976, -0.004350452683866024, 0.021410828456282616, 0.02755889669060707, 0.019133852794766426, 0.03860122337937355, -0.02522086724638939, -0.031082049012184143, -0.014322123490273952, -0.03216259926557541, 0.018514296039938927, -0.01550922729074955, 0.0016777731943875551, 0.04366733133792877, 0.01377040334045887, -0.02945260889828205, 0.04078436270356178, 0.012811675667762756, 0.026683831587433815, 0.035983938723802567, 0.04594656825065613, 0.02002418041229248, 0.019889075309038162, -0.01680147461593151, -0.04257745295763016, 0.009826957248151302, -0.01474722009152174, -0.015344163402915001, -0.02153971418738365, -0.0036585405468940735, -0.05713699758052826, -0.006921379826962948, 0.03205632418394089, -0.010919093154370785, 0.004422809462994337, 0.02101512812077999, -0.009927579201757908, 0.09932327270507812, -0.04082167148590088, -0.027658386155962944, 0.041836928576231, -0.06837717443704605, 0.05342645198106766, 0.02414003759622574, 0.022086912766098976, 0.004572045523673296, -0.01920168660581112, -0.05354403331875801, 0.022310767322778702, -0.0030525524634867907, 0.05629359185695648, 0.020859109237790108, 0.0056257410906255245, -0.02039557322859764, -0.005984133575111628, 0.042464397847652435, -0.016890790313482285, -0.01097901351749897, 0.03160183131694794, 0.05520371347665787, -0.008764217607676983, -0.00151892751455307, -0.014713302254676819, 0.01636168174445629, -0.03842145949602127, -0.024926917627453804, 0.011803203262388706, -0.015393908135592937, 0.033822283148765564, -0.017523912712931633, 0.010075684636831284, -0.008741606026887894, -0.006168417166918516, 0.04892902448773384, -0.019002703949809074, 0.026310741901397705, -0.002983587561175227, -0.011061545461416245, -0.03342432156205177, -0.003249272471293807, -0.02064882218837738, -0.0011192692909389734, -0.05233205482363701, 0.0007507017580792308, 0.023371245712041855, -0.037887830287218094, -0.016063209623098373, -0.008040649816393852, -0.012271260842680931, -0.01569238118827343, 0.015432348474860191, 0.02539723552763462, -0.03787652403116226, 0.009903836995363235, -0.03686578944325447, 0.0209201592952013, 0.006096060387790203, 0.011477597057819366, 0.020287038758397102, 0.019626781344413757, -0.006947948597371578, 0.03965378552675247, 0.008375299163162708, 0.025706730782985687, 0.039443500339984894, 0.04754972085356712, -0.003970579244196415, -0.039803024381399155, 0.03706081211566925, -0.0082218237221241, -0.07239976525306702, 0.002663634717464447, 0.037469517439603806, 0.0047574592754244804, 0.15252813696861267, 0.014201152138411999, -0.031411897391080856, -0.008666987530887127, 0.06922285258769989, -0.020413661375641823, 0.04294376075267792, 0.003392290323972702, -0.025976089760661125, 0.012637566775083542, -0.04108962044119835, -0.04396127536892891, -0.0051373327150940895, -0.022195449098944664, 0.009734250605106354, -0.017528435215353966, 0.03494381532073021, -0.04833660274744034, -0.00644879974424839, 0.06135856360197067, -0.09612148255109787, -0.08843809366226196, 0.02560102380812168, 0.019889075309038162, 0.023002678528428078, -0.030172783881425858, 0.016877224668860435, 0.036730121821165085, 0.02726946771144867, -0.01610391028225422, 0.0526893176138401, -0.022000988945364952, -0.020223725587129593, 0.01662510447204113, -0.08386605232954025, 0.01549339946359396, 0.0075929416343569756, -0.023093124851584435, 0.04079114645719528, 0.009456695057451725, 0.031868647783994675, 0.06210474297404289, 0.02504901960492134, -0.0015240150969475508, -0.056797824800014496, -0.046941474080085754, -0.015651680529117584, 0.030489344149827957, 0.06116862595081329], index=0, object='embedding')]"
                        ]
                    },
                    "execution_count": 17,
                    "metadata": {},
                    "output_type": "execute_result"
                }
            ],
            "source": [
                "response.data"
            ]
        },
        {
            "cell_type": "markdown",
            "id": "22",
            "metadata": {},
            "source": [
                "### Creating a Vector Store Compatible API Class\n",
                "\n",
                "The API calls can be condensed into a custom embedding class, which is compatible with llama-index vector storage APIs.  \n",
                "Note, to protect itself from being momentarily flooded with user data, bedrock implements rate limits. We use an exponential backup strategy to \n",
                "let the network recover when reached."
            ]
        },
        {
            "cell_type": "code",
            "execution_count": 149,
            "id": "23",
            "metadata": {},
            "outputs": [],
            "source": [
                "import time\n",
                "import random\n",
                "import pdb\n",
                "from tqdm import tqdm\n",
                "from typing import List\n",
                "from langchain.embeddings.base import Embeddings\n",
                "from portkey_ai import Portkey\n",
                "from portkey_ai._vendor.openai import RateLimitError\n",
                "\n",
                "class PortkeyEmbedding(Embeddings):\n",
                "    def __init__(\n",
                "        self, \n",
                "        model_name: str, \n",
                "        api_key: str, \n",
                "        base_url=\"https://eu.aigw.galileo.roche.com/v1\",\n",
                "        dimensions: int = 1024, \n",
                "        verbose: str = False,\n",
                "        show_progress: bool = True\n",
                "    ):\n",
                "        self._model_name = model_name\n",
                "        self._dimensions = dimensions\n",
                "        self._verbose = verbose\n",
                "        self._portkey = Portkey(api_key=api_key, base_url=base_url)\n",
                "        self._show_progress = show_progress\n",
                "        \n",
                "    @property\n",
                "    def model_name(self):\n",
                "        return self._model_name\n",
                "\n",
                "    def _retry_with_backoff(self, func, *args, max_retries=5, **kwargs):\n",
                "        # Exponential retry to respect bedrock rate limits\n",
                "        delay = 1.0\n",
                "        for attempt in range(max_retries):\n",
                "            try:\n",
                "                return func(*args, **kwargs)\n",
                "            except RateLimitError as e:\n",
                "                print(f\"RateLimitError: {e}, retrying in {delay:.2f}s...\") if self._verbose else None\n",
                "                time.sleep(delay + random.uniform(0, 0.5))\n",
                "                delay *= 2\n",
                "            except:\n",
                "                print()\n",
                "                pdb.set_trace()\n",
                "        raise RuntimeError(\"Exceeded maximum retries due to rate limits.\")\n",
                "\n",
                "\n",
                "    def embed_documents(self, texts: List[str], is_query:bool= False) -> List[List[float]]:\n",
                "        embeddings = []\n",
                "        iterator = tqdm(enumerate(texts), total=len(texts), desc=\"Embedding documents\", disable=not self._show_progress)\n",
                "\n",
                "        for index, text in iterator:\n",
                "            payload = {\n",
                "                \"model\": self._model_name,\n",
                "                \"input\": text if \"titan\" in self._model_name else [text],\n",
                "            }\n",
                "            if is_query and 'titan' not in self._model_name:\n",
                "                payload[\"input_type\"] = \"search_query\"\n",
                "            elif 'titan' not in self._model_name:\n",
                "                payload[\"input_type\"] = \"search_document\"\n",
                "            if self._dimensions:\n",
                "                payload[\"dimensions\"] = self._dimensions\n",
                "\n",
                "            response = self._retry_with_backoff(self._portkey.embeddings.create, **payload)\n",
                "            embeddings.append(response.data[0].embedding)\n",
                "\n",
                "        return embeddings\n",
                "\n",
                "\n",
                "    def embed_query(self, text: str) -> List[float]:\n",
                "        return self.embed_documents([text], is_query=True)[0]\n"
            ]
        },
        {
            "cell_type": "markdown",
            "id": "b5431899",
            "metadata": {},
            "source": [
                "### Creating all Embeddings at Once\n",
                "We can now create all embeddings at once, by pussing the chunked nodes to the vector store "
            ]
        },
        {
            "cell_type": "code",
            "execution_count": 84,
            "id": "26",
            "metadata": {},
            "outputs": [],
            "source": [
                "from langchain.schema import Document as LCDocument\n",
                "from langchain.vectorstores import FAISS\n",
                "\n",
                "\n",
                "# Initialize custom embedding model\n",
                "embedding_model = PortkeyEmbedding(\n",
                "    model_name=\"amazon.titan-embed-text-v2:0\",\n",
                "    api_key=api_key,\n",
                ")\n",
                "\n",
                "converted_documents = [\n",
                "    LCDocument(\n",
                "        page_content=node.get_content(), \n",
                "        metadata=node.metadata\n",
                "        )\n",
                "    for node in sentence_nodes\n",
                "]\n",
                "\n",
                "vectorstore = FAISS.from_documents(\n",
                "    converted_documents, \n",
                "    embedding=embedding_model\n",
                ")\n"
            ]
        },
        {
            "cell_type": "markdown",
            "id": "eada1471",
            "metadata": {},
            "source": [
                "The embeddings are now available as np matrix."
            ]
        },
        {
            "cell_type": "code",
            "execution_count": 85,
            "id": "24ebc46b",
            "metadata": {},
            "outputs": [
                {
                    "data": {
                        "text/plain": [
                            "(1271, 1024)"
                        ]
                    },
                    "execution_count": 85,
                    "metadata": {},
                    "output_type": "execute_result"
                }
            ],
            "source": [
                "import numpy as np\n",
                "\n",
                "index = vectorstore.index\n",
                "embeddings = np.array(index.reconstruct_n(0, index.ntotal))\n",
                "embeddings.shape"
            ]
        },
        {
            "cell_type": "code",
            "execution_count": null,
            "id": "6345baa4",
            "metadata": {},
            "outputs": [],
            "source": [
                "# Save to a directory\n",
                "from pathlib import Path\n",
                "\n",
                "store_persist = Path(\"data\", \"embedding_eval\", \"sentence_splitter_512_50\" + \"+\" + \"amazon.titan-embed-text-v2:0\")\n",
                "store_persist.mkdir(parents=True, exist_ok=True)\n",
                "\n",
                "vectorstore.save_local(str(store_persist))"
            ]
        }
    ],
    "nbformat": 4,
    "nbformat_minor": 5
}